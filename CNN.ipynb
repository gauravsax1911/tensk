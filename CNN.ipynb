{
  "nbformat": 4,
  "nbformat_minor": 0,
  "metadata": {
    "colab": {
      "name": "CNN.ipynb",
      "provenance": [],
      "authorship_tag": "ABX9TyMGbMRy8EltZ3u6z0o4Targ",
      "include_colab_link": true
    },
    "kernelspec": {
      "name": "python3",
      "display_name": "Python 3"
    }
  },
  "cells": [
    {
      "cell_type": "markdown",
      "metadata": {
        "id": "view-in-github",
        "colab_type": "text"
      },
      "source": [
        "<a href=\"https://colab.research.google.com/github/gauravsax1911/tensk/blob/main/CNN.ipynb\" target=\"_parent\"><img src=\"https://colab.research.google.com/assets/colab-badge.svg\" alt=\"Open In Colab\"/></a>"
      ]
    },
    {
      "cell_type": "code",
      "metadata": {
        "id": "26JGeKMQQ-vW"
      },
      "source": [
        "import numpy as np\r\n",
        "import pandas as pd\r\n",
        "import matplotlib as mpl\r\n",
        "import matplotlib.pyplot as plt\r\n"
      ],
      "execution_count": null,
      "outputs": []
    },
    {
      "cell_type": "code",
      "metadata": {
        "id": "XcgdeVc3RQZX"
      },
      "source": [
        "import tensorflow as tf\r\n",
        "from tensorflow import keras"
      ],
      "execution_count": null,
      "outputs": []
    },
    {
      "cell_type": "code",
      "metadata": {
        "colab": {
          "base_uri": "https://localhost:8080/"
        },
        "id": "IRiB33jGSmGi",
        "outputId": "1f91609f-f5b3-46f6-e430-cb822b81a68b"
      },
      "source": [
        "fashion_mnist = keras.datasets.fashion_mnist\r\n",
        "(X_train_full,y_train_full) , (X_test , y_test)= fashion_mnist.load_data()\r\n",
        "fashion_mnist"
      ],
      "execution_count": 7,
      "outputs": [
        {
          "output_type": "execute_result",
          "data": {
            "text/plain": [
              "<module 'tensorflow.keras.datasets.fashion_mnist' from '/usr/local/lib/python3.7/dist-packages/tensorflow/keras/datasets/fashion_mnist/__init__.py'>"
            ]
          },
          "metadata": {
            "tags": []
          },
          "execution_count": 7
        }
      ]
    },
    {
      "cell_type": "code",
      "metadata": {
        "id": "O-LVdKs7SnnW"
      },
      "source": [
        "class_names = [\"T-shirt/top\" , \"Trouser\", \"Pullover\", \"Dress\", \"Coat\", \"Sandal\", \"Shirt\", \"Sneaker\", \"Bag\", \"Ankle boot\"]"
      ],
      "execution_count": 8,
      "outputs": []
    },
    {
      "cell_type": "markdown",
      "metadata": {
        "id": "IJmv-FqKTDKK"
      },
      "source": [
        "DATA RESHAPING"
      ]
    },
    {
      "cell_type": "code",
      "metadata": {
        "id": "5SyvXMvjSwCv"
      },
      "source": [
        "X_train_full=X_train_full.reshape((60000,28,28,1))\r\n",
        "X_test = X_test.reshape((10000,28,28,1))\r\n"
      ],
      "execution_count": 9,
      "outputs": []
    },
    {
      "cell_type": "markdown",
      "metadata": {
        "id": "y8xUgRKHTsDF"
      },
      "source": [
        "**NORMALIZATION** "
      ]
    },
    {
      "cell_type": "code",
      "metadata": {
        "id": "cVpakiGkTwmL"
      },
      "source": [
        "X_train_n = X_train_full/255;\r\n",
        "X_test_n = X_test/255;\r\n"
      ],
      "execution_count": 10,
      "outputs": []
    },
    {
      "cell_type": "code",
      "metadata": {
        "id": "uKdjzTLIUG5j"
      },
      "source": [
        "X_valid , X_train = X_train_n[:5000] , X_train_n[5000:]\r\n",
        "y_valid , y_train = y_train_full[:5000] , y_train_full[5000:]\r\n",
        "X_test = X_test_n"
      ],
      "execution_count": 11,
      "outputs": []
    },
    {
      "cell_type": "code",
      "metadata": {
        "id": "9nFC5mk0URli"
      },
      "source": [
        "np.random.seed(42)\r\n",
        "tf.random.set_seed(42)"
      ],
      "execution_count": 12,
      "outputs": []
    },
    {
      "cell_type": "code",
      "metadata": {
        "id": "wpM_rC-9UwAO"
      },
      "source": [
        "model = keras.models.Sequential()\r\n",
        "model.add(keras.layers.Conv2D(filters=32,kernel_size=(3,3),strides =1,padding='valid',activation='relu',input_shape=(28,28,1)))\r\n",
        "model.add(keras.layers.MaxPooling2D((2,2)))\r\n",
        "model.add(keras.layers.Flatten())\r\n",
        "model.add(keras.layers.Dense(300,activation=\"relu\"))\r\n",
        "model.add(keras.layers.Dense(100,activation=\"relu\"))\r\n",
        "model.add(keras.layers.Dense(10,activation=\"softmax\"))"
      ],
      "execution_count": 14,
      "outputs": []
    },
    {
      "cell_type": "code",
      "metadata": {
        "colab": {
          "base_uri": "https://localhost:8080/",
          "height": 661
        },
        "id": "PhzmGR04Vd4F",
        "outputId": "aaeabef3-90f0-488b-b530-c4af42a5658b"
      },
      "source": [
        "import pydot\r\n",
        "keras.utils.plot_model(model)"
      ],
      "execution_count": 15,
      "outputs": [
        {
          "output_type": "execute_result",
          "data": {
            "image/png": "[encoded data removed]",
            "text/plain": [
              "<IPython.core.display.Image object>"
            ]
          },
          "metadata": {
            "tags": []
          },
          "execution_count": 15
        }
      ]
    },
    {
      "cell_type": "code",
      "metadata": {
        "id": "V2k3HW8sWpRu"
      },
      "source": [
        "model.compile(loss=\"sparse_categorical_crossentropy\",optimizer=\"sgd\",metrics=[\"accuracy\"])"
      ],
      "execution_count": 16,
      "outputs": []
    },
    {
      "cell_type": "code",
      "metadata": {
        "colab": {
          "base_uri": "https://localhost:8080/"
        },
        "id": "06UaVCsSWrO9",
        "outputId": "ad936b83-e7b5-4a8f-b5a4-a24867261273"
      },
      "source": [
        "model_history= model.fit(X_train,y_train,epochs=8,batch_size=64,validation_data=(X_valid,y_valid))"
      ],
      "execution_count": 17,
      "outputs": [
        {
          "output_type": "stream",
          "text": [
            "Epoch 1/8\n",
            "860/860 [==============================] - 34s 39ms/step - loss: 1.2216 - accuracy: 0.6017 - val_loss: 0.7886 - val_accuracy: 0.7124\n",
            "Epoch 2/8\n",
            "860/860 [==============================] - 33s 39ms/step - loss: 0.5628 - accuracy: 0.7984 - val_loss: 0.4953 - val_accuracy: 0.8104\n",
            "Epoch 3/8\n",
            "860/860 [==============================] - 33s 39ms/step - loss: 0.4915 - accuracy: 0.8210 - val_loss: 0.9744 - val_accuracy: 0.6962\n",
            "Epoch 4/8\n",
            "860/860 [==============================] - 33s 38ms/step - loss: 0.4526 - accuracy: 0.8393 - val_loss: 0.4174 - val_accuracy: 0.8544\n",
            "Epoch 5/8\n",
            "860/860 [==============================] - 33s 39ms/step - loss: 0.4328 - accuracy: 0.8437 - val_loss: 0.4276 - val_accuracy: 0.8506\n",
            "Epoch 6/8\n",
            "860/860 [==============================] - 33s 39ms/step - loss: 0.3977 - accuracy: 0.8546 - val_loss: 0.3788 - val_accuracy: 0.8676\n",
            "Epoch 7/8\n",
            "860/860 [==============================] - 33s 39ms/step - loss: 0.3810 - accuracy: 0.8636 - val_loss: 0.4150 - val_accuracy: 0.8502\n",
            "Epoch 8/8\n",
            "860/860 [==============================] - 33s 39ms/step - loss: 0.3628 - accuracy: 0.8705 - val_loss: 0.5200 - val_accuracy: 0.8122\n"
          ],
          "name": "stdout"
        }
      ]
    },
    {
      "cell_type": "code",
      "metadata": {
        "colab": {
          "base_uri": "https://localhost:8080/"
        },
        "id": "4N6nMEuzgAfU",
        "outputId": "427c090f-9f73-46e0-868e-c0bede0ef99e"
      },
      "source": [
        "ev = model.evaluate(X_test_n,y_test)"
      ],
      "execution_count": 19,
      "outputs": [
        {
          "output_type": "stream",
          "text": [
            "313/313 [==============================] - 3s 8ms/step - loss: 0.5553 - accuracy: 0.8003\n"
          ],
          "name": "stdout"
        }
      ]
    },
    {
      "cell_type": "code",
      "metadata": {
        "colab": {
          "base_uri": "https://localhost:8080/"
        },
        "id": "O2aQD0oNgNut",
        "outputId": "5625a207-d099-4fb0-8715-8d479946e274"
      },
      "source": [
        "ev"
      ],
      "execution_count": 20,
      "outputs": [
        {
          "output_type": "execute_result",
          "data": {
            "text/plain": [
              "[0.5552693605422974, 0.8003000020980835]"
            ]
          },
          "metadata": {
            "tags": []
          },
          "execution_count": 20
        }
      ]
    },
    {
      "cell_type": "code",
      "metadata": {
        "colab": {
          "base_uri": "https://localhost:8080/"
        },
        "id": "rFBPeyF4hV4u",
        "outputId": "4bc052a4-2bea-4eb1-d405-90d70166382d"
      },
      "source": [
        "X_new = X_test[:3]\r\n",
        "y_pred = model.predict_classes(X_new)\r\n",
        "y_pred"
      ],
      "execution_count": 22,
      "outputs": [
        {
          "output_type": "stream",
          "text": [
            "/usr/local/lib/python3.7/dist-packages/tensorflow/python/keras/engine/sequential.py:450: UserWarning: `model.predict_classes()` is deprecated and will be removed after 2021-01-01. Please use instead:* `np.argmax(model.predict(x), axis=-1)`,   if your model does multi-class classification   (e.g. if it uses a `softmax` last-layer activation).* `(model.predict(x) > 0.5).astype(\"int32\")`,   if your model does binary classification   (e.g. if it uses a `sigmoid` last-layer activation).\n",
            "  warnings.warn('`model.predict_classes()` is deprecated and '\n"
          ],
          "name": "stderr"
        },
        {
          "output_type": "execute_result",
          "data": {
            "text/plain": [
              "array([9, 2, 1])"
            ]
          },
          "metadata": {
            "tags": []
          },
          "execution_count": 22
        }
      ]
    },
    {
      "cell_type": "code",
      "metadata": {
        "colab": {
          "base_uri": "https://localhost:8080/"
        },
        "id": "-yh_b9SQhlln",
        "outputId": "b7779a69-f366-4653-a23b-814d78dc21ee"
      },
      "source": [
        "y_test[:3]"
      ],
      "execution_count": 23,
      "outputs": [
        {
          "output_type": "execute_result",
          "data": {
            "text/plain": [
              "array([9, 2, 1], dtype=uint8)"
            ]
          },
          "metadata": {
            "tags": []
          },
          "execution_count": 23
        }
      ]
    }
  ]
}