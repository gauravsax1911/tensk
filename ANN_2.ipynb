{
  "nbformat": 4,
  "nbformat_minor": 0,
  "metadata": {
    "colab": {
      "name": "ANN-2.ipynb",
      "provenance": [],
      "authorship_tag": "ABX9TyPF56syQsjmHiKI1dagabto",
      "include_colab_link": true
    },
    "kernelspec": {
      "name": "python3",
      "display_name": "Python 3"
    }
  },
  "cells": [
    {
      "cell_type": "markdown",
      "metadata": {
        "id": "view-in-github",
        "colab_type": "text"
      },
      "source": [
        "<a href=\"https://colab.research.google.com/github/gauravsax1911/tensk/blob/main/ANN_2.ipynb\" target=\"_parent\"><img src=\"https://colab.research.google.com/assets/colab-badge.svg\" alt=\"Open In Colab\"/></a>"
      ]
    },
    {
      "cell_type": "code",
      "metadata": {
        "id": "TKggHbrO0gtk"
      },
      "source": [
        "import numpy as np\r\n",
        "import pandas as pd\r\n",
        "import matplotlib as mpl\r\n",
        "import matplotlib.pyplot as plt\r\n"
      ],
      "execution_count": 5,
      "outputs": []
    },
    {
      "cell_type": "code",
      "metadata": {
        "id": "Ip9ebxLI07_-"
      },
      "source": [
        "import tensorflow as tf\r\n",
        "from tensorflow import keras\r\n"
      ],
      "execution_count": 6,
      "outputs": []
    },
    {
      "cell_type": "code",
      "metadata": {
        "id": "OQknqUZ51EWU"
      },
      "source": [
        "from sklearn.datasets import fetch_california_housing\r\n",
        "housing = fetch_california_housing()\r\n",
        "\r\n"
      ],
      "execution_count": 18,
      "outputs": []
    },
    {
      "cell_type": "code",
      "metadata": {
        "colab": {
          "base_uri": "https://localhost:8080/"
        },
        "id": "6aicl_t21PiY",
        "outputId": "e6d4d3a1-b3f8-4190-cf0a-aab73cbd0142"
      },
      "source": [
        "print(housing.feature_names)"
      ],
      "execution_count": 5,
      "outputs": [
        {
          "output_type": "stream",
          "text": [
            "['MedInc', 'HouseAge', 'AveRooms', 'AveBedrms', 'Population', 'AveOccup', 'Latitude', 'Longitude']\n"
          ],
          "name": "stdout"
        }
      ]
    },
    {
      "cell_type": "code",
      "metadata": {
        "id": "pEodDBdB2QMu"
      },
      "source": [
        "from sklearn.model_selection import train_test_split\r\n",
        "X_train_full , X_test , y_train_full , y_test = train_test_split(housing.data , housing.target,random_state = 42 )\r\n",
        "X_train , X_valid , y_train , y_valid = train_test_split(X_train_full, y_train_full , random_state = 42)\r\n"
      ],
      "execution_count": 8,
      "outputs": []
    },
    {
      "cell_type": "code",
      "metadata": {
        "id": "SAVzJj9h3zA7"
      },
      "source": [
        "from sklearn.preprocessing import StandardScaler\r\n",
        "scaler = StandardScaler ()\r\n",
        "X_train = scaler.fit_transform(X_train)\r\n",
        "X_valid = scaler.transform(X_valid)\r\n",
        "X_test = scaler.transform(X_test)"
      ],
      "execution_count": 10,
      "outputs": []
    },
    {
      "cell_type": "code",
      "metadata": {
        "id": "zF-8CeJq4qsi"
      },
      "source": [
        "np.random.seed(42)\r\n",
        "tf.random.set_seed(42)"
      ],
      "execution_count": 11,
      "outputs": []
    },
    {
      "cell_type": "code",
      "metadata": {
        "colab": {
          "base_uri": "https://localhost:8080/"
        },
        "id": "A9HAj5Zg403w",
        "outputId": "25567b1c-fc0c-4383-83bf-3516aa701dd9"
      },
      "source": [
        "X_train.shape"
      ],
      "execution_count": 12,
      "outputs": [
        {
          "output_type": "execute_result",
          "data": {
            "text/plain": [
              "(11610, 8)"
            ]
          },
          "metadata": {
            "tags": []
          },
          "execution_count": 12
        }
      ]
    },
    {
      "cell_type": "code",
      "metadata": {
        "colab": {
          "base_uri": "https://localhost:8080/"
        },
        "id": "rVyBU3O55l--",
        "outputId": "3914a777-8fc5-406d-cb1c-5f01322ee3c6"
      },
      "source": [
        "X_valid.shape"
      ],
      "execution_count": 13,
      "outputs": [
        {
          "output_type": "execute_result",
          "data": {
            "text/plain": [
              "(3870, 8)"
            ]
          },
          "metadata": {
            "tags": []
          },
          "execution_count": 13
        }
      ]
    },
    {
      "cell_type": "code",
      "metadata": {
        "colab": {
          "base_uri": "https://localhost:8080/"
        },
        "id": "oV1US_eU5qCP",
        "outputId": "772615bc-74cd-4630-e65c-9348056f3060"
      },
      "source": [
        "X_test.shape"
      ],
      "execution_count": 14,
      "outputs": [
        {
          "output_type": "execute_result",
          "data": {
            "text/plain": [
              "(5160, 8)"
            ]
          },
          "metadata": {
            "tags": []
          },
          "execution_count": 14
        }
      ]
    },
    {
      "cell_type": "code",
      "metadata": {
        "id": "-WwKgllYCSPB"
      },
      "source": [
        "model = keras.models.Sequential([\r\n",
        "                                keras.layers.Dense(30,activation =\"relu\", input_shape= X_train.shape[1:]),\r\n",
        "                                keras.layers.Dense(30,activation=\"relu\"),\r\n",
        "                                keras.layers.Dense(1)\r\n",
        "])"
      ],
      "execution_count": 21,
      "outputs": []
    },
    {
      "cell_type": "code",
      "metadata": {
        "id": "--MyNNonERdb"
      },
      "source": [
        "model.compile(loss=\"mean_squared_error\",\r\n",
        "              optimizer = keras.optimizers.SGD(lr=1e-3),\r\n",
        "              metrics=[\"mae\"])"
      ],
      "execution_count": 22,
      "outputs": []
    },
    {
      "cell_type": "code",
      "metadata": {
        "colab": {
          "base_uri": "https://localhost:8080/"
        },
        "id": "NiNuaNarFA72",
        "outputId": "c1f276b1-3dcc-4fa4-cf13-8c1dd9ba7ce9"
      },
      "source": [
        "model_history = model.fit(X_train,y_train,epochs=40,validation_data=(X_valid,y_valid))"
      ],
      "execution_count": 23,
      "outputs": [
        {
          "output_type": "stream",
          "text": [
            "Epoch 1/40\n",
            "363/363 [==============================] - 1s 2ms/step - loss: 3.0681 - mae: 1.3449 - val_loss: 1.3779 - val_mae: 0.7073\n",
            "Epoch 2/40\n",
            "363/363 [==============================] - 0s 1ms/step - loss: 0.8428 - mae: 0.6853 - val_loss: 0.6885 - val_mae: 0.6238\n",
            "Epoch 3/40\n",
            "363/363 [==============================] - 0s 1ms/step - loss: 0.7087 - mae: 0.6285 - val_loss: 0.6645 - val_mae: 0.5892\n",
            "Epoch 4/40\n",
            "363/363 [==============================] - 0s 1ms/step - loss: 0.6599 - mae: 0.5997 - val_loss: 0.5944 - val_mae: 0.5685\n",
            "Epoch 5/40\n",
            "363/363 [==============================] - 0s 1ms/step - loss: 0.5955 - mae: 0.5734 - val_loss: 0.5505 - val_mae: 0.5434\n",
            "Epoch 6/40\n",
            "363/363 [==============================] - 0s 1ms/step - loss: 0.5569 - mae: 0.5517 - val_loss: 0.5211 - val_mae: 0.5268\n",
            "Epoch 7/40\n",
            "363/363 [==============================] - 0s 1ms/step - loss: 0.5480 - mae: 0.5416 - val_loss: 0.5055 - val_mae: 0.5115\n",
            "Epoch 8/40\n",
            "363/363 [==============================] - 0s 1ms/step - loss: 0.5099 - mae: 0.5251 - val_loss: 0.4648 - val_mae: 0.4966\n",
            "Epoch 9/40\n",
            "363/363 [==============================] - 0s 1ms/step - loss: 0.4885 - mae: 0.5132 - val_loss: 0.4442 - val_mae: 0.4850\n",
            "Epoch 10/40\n",
            "363/363 [==============================] - 1s 1ms/step - loss: 0.4710 - mae: 0.5027 - val_loss: 0.4304 - val_mae: 0.4750\n",
            "Epoch 11/40\n",
            "363/363 [==============================] - 0s 1ms/step - loss: 0.4519 - mae: 0.4887 - val_loss: 0.4183 - val_mae: 0.4708\n",
            "Epoch 12/40\n",
            "363/363 [==============================] - 0s 1ms/step - loss: 0.4409 - mae: 0.4835 - val_loss: 0.4100 - val_mae: 0.4632\n",
            "Epoch 13/40\n",
            "363/363 [==============================] - 0s 1ms/step - loss: 0.4391 - mae: 0.4799 - val_loss: 0.4051 - val_mae: 0.4605\n",
            "Epoch 14/40\n",
            "363/363 [==============================] - 1s 1ms/step - loss: 0.4254 - mae: 0.4737 - val_loss: 0.4001 - val_mae: 0.4572\n",
            "Epoch 15/40\n",
            "363/363 [==============================] - 0s 1ms/step - loss: 0.4240 - mae: 0.4666 - val_loss: 0.3987 - val_mae: 0.4533\n",
            "Epoch 16/40\n",
            "363/363 [==============================] - 1s 1ms/step - loss: 0.4269 - mae: 0.4713 - val_loss: 0.3908 - val_mae: 0.4498\n",
            "Epoch 17/40\n",
            "363/363 [==============================] - 0s 1ms/step - loss: 0.4098 - mae: 0.4618 - val_loss: 0.4004 - val_mae: 0.4476\n",
            "Epoch 18/40\n",
            "363/363 [==============================] - 0s 1ms/step - loss: 0.4068 - mae: 0.4638 - val_loss: 0.3939 - val_mae: 0.4442\n",
            "Epoch 19/40\n",
            "363/363 [==============================] - 0s 1ms/step - loss: 0.3961 - mae: 0.4554 - val_loss: 0.3909 - val_mae: 0.4423\n",
            "Epoch 20/40\n",
            "363/363 [==============================] - 0s 1ms/step - loss: 0.3886 - mae: 0.4479 - val_loss: 0.4167 - val_mae: 0.4461\n",
            "Epoch 21/40\n",
            "363/363 [==============================] - 0s 1ms/step - loss: 0.3983 - mae: 0.4538 - val_loss: 0.4131 - val_mae: 0.4455\n",
            "Epoch 22/40\n",
            "363/363 [==============================] - 0s 1ms/step - loss: 0.3819 - mae: 0.4450 - val_loss: 0.4209 - val_mae: 0.4452\n",
            "Epoch 23/40\n",
            "363/363 [==============================] - 0s 1ms/step - loss: 0.4084 - mae: 0.4606 - val_loss: 0.3815 - val_mae: 0.4345\n",
            "Epoch 24/40\n",
            "363/363 [==============================] - 0s 1ms/step - loss: 0.3872 - mae: 0.4478 - val_loss: 0.3955 - val_mae: 0.4366\n",
            "Epoch 25/40\n",
            "363/363 [==============================] - 0s 1ms/step - loss: 0.3841 - mae: 0.4461 - val_loss: 0.4081 - val_mae: 0.4374\n",
            "Epoch 26/40\n",
            "363/363 [==============================] - 0s 1ms/step - loss: 0.3865 - mae: 0.4456 - val_loss: 0.4143 - val_mae: 0.4377\n",
            "Epoch 27/40\n",
            "363/363 [==============================] - 0s 1ms/step - loss: 0.3895 - mae: 0.4457 - val_loss: 0.3781 - val_mae: 0.4332\n",
            "Epoch 28/40\n",
            "363/363 [==============================] - 0s 1ms/step - loss: 0.3886 - mae: 0.4458 - val_loss: 0.3959 - val_mae: 0.4371\n",
            "Epoch 29/40\n",
            "363/363 [==============================] - 0s 1ms/step - loss: 0.3794 - mae: 0.4439 - val_loss: 0.3860 - val_mae: 0.4348\n",
            "Epoch 30/40\n",
            "363/363 [==============================] - 0s 1ms/step - loss: 0.3886 - mae: 0.4456 - val_loss: 0.4012 - val_mae: 0.4336\n",
            "Epoch 31/40\n",
            "363/363 [==============================] - 0s 1ms/step - loss: 0.3763 - mae: 0.4406 - val_loss: 0.3917 - val_mae: 0.4316\n",
            "Epoch 32/40\n",
            "363/363 [==============================] - 0s 1ms/step - loss: 0.3737 - mae: 0.4429 - val_loss: 0.4158 - val_mae: 0.4363\n",
            "Epoch 33/40\n",
            "363/363 [==============================] - 0s 1ms/step - loss: 0.3770 - mae: 0.4403 - val_loss: 0.3758 - val_mae: 0.4309\n",
            "Epoch 34/40\n",
            "363/363 [==============================] - 0s 1ms/step - loss: 0.3665 - mae: 0.4319 - val_loss: 0.3739 - val_mae: 0.4301\n",
            "Epoch 35/40\n",
            "363/363 [==============================] - 0s 1ms/step - loss: 0.3636 - mae: 0.4312 - val_loss: 0.4006 - val_mae: 0.4330\n",
            "Epoch 36/40\n",
            "363/363 [==============================] - 0s 1ms/step - loss: 0.3619 - mae: 0.4331 - val_loss: 0.3648 - val_mae: 0.4262\n",
            "Epoch 37/40\n",
            "363/363 [==============================] - 0s 1ms/step - loss: 0.3918 - mae: 0.4408 - val_loss: 0.3799 - val_mae: 0.4291\n",
            "Epoch 38/40\n",
            "363/363 [==============================] - 0s 1ms/step - loss: 0.3621 - mae: 0.4275 - val_loss: 0.3631 - val_mae: 0.4255\n",
            "Epoch 39/40\n",
            "363/363 [==============================] - 0s 1ms/step - loss: 0.3860 - mae: 0.4410 - val_loss: 0.3637 - val_mae: 0.4252\n",
            "Epoch 40/40\n",
            "363/363 [==============================] - 0s 1ms/step - loss: 0.3645 - mae: 0.4296 - val_loss: 0.3704 - val_mae: 0.4239\n"
          ],
          "name": "stdout"
        }
      ]
    },
    {
      "cell_type": "code",
      "metadata": {
        "colab": {
          "base_uri": "https://localhost:8080/"
        },
        "id": "mJ1ZDtG3FbOI",
        "outputId": "0700d83f-9c90-45c9-9682-268c61c74346"
      },
      "source": [
        "mae_test = model.evaluate(X_train,y_train)"
      ],
      "execution_count": 24,
      "outputs": [
        {
          "output_type": "stream",
          "text": [
            "363/363 [==============================] - 0s 812us/step - loss: 0.3669 - mae: 0.4295\n"
          ],
          "name": "stdout"
        }
      ]
    },
    {
      "cell_type": "code",
      "metadata": {
        "colab": {
          "base_uri": "https://localhost:8080/",
          "height": 324
        },
        "id": "crITF3n_FvfU",
        "outputId": "119b9e19-68a0-44cd-dfd9-5fbd7e53b108"
      },
      "source": [
        "import pandas as pd\r\n",
        "\r\n",
        "pd.DataFrame(model_history.history).plot(figsize=(8,5))\r\n",
        "plt.grid(True)\r\n",
        "plt.gca().set_ylim(0,1)\r\n",
        "plt.show()"
      ],
      "execution_count": 27,
      "outputs": [
        {
          "output_type": "display_data",
          "data": {
            "image/png": "[encoded data removed]",
            "text/plain": [
              "<Figure size 576x360 with 1 Axes>"
            ]
          },
          "metadata": {
            "tags": [],
            "needs_background": "light"
          }
        }
      ]
    }
  ]
}