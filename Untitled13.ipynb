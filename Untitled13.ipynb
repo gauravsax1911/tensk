{
  "nbformat": 4,
  "nbformat_minor": 0,
  "metadata": {
    "colab": {
      "name": "Untitled13.ipynb",
      "provenance": [],
      "authorship_tag": "ABX9TyPqjuR3gKfrUCf8mrN8W8AJ",
      "include_colab_link": true
    },
    "kernelspec": {
      "name": "python3",
      "display_name": "Python 3"
    }
  },
  "cells": [
    {
      "cell_type": "markdown",
      "metadata": {
        "id": "view-in-github",
        "colab_type": "text"
      },
      "source": [
        "<a href=\"https://colab.research.google.com/github/gauravsax1911/tensk/blob/main/Untitled13.ipynb\" target=\"_parent\"><img src=\"https://colab.research.google.com/assets/colab-badge.svg\" alt=\"Open In Colab\"/></a>"
      ]
    },
    {
      "cell_type": "code",
      "metadata": {
        "id": "gpVCgUbSFmGn"
      },
      "source": [
        "import pandas as pd\r\n",
        "import numpy as np\r\n",
        "import matplotlib.pyplot as plt\r\n"
      ],
      "execution_count": 1,
      "outputs": []
    },
    {
      "cell_type": "code",
      "metadata": {
        "colab": {
          "base_uri": "https://localhost:8080/",
          "height": 326
        },
        "id": "Iaos0uzRJKtR",
        "outputId": "3092ada1-e3ed-4cf9-bbd8-9fff06819ed8"
      },
      "source": [
        "data = pd.read_csv('/content/Transformed_Housing_Data.csv')\r\n",
        "data.head()"
      ],
      "execution_count": 3,
      "outputs": [
        {
          "output_type": "execute_result",
          "data": {
            "text/html": [
              "<div>\n",
              "<style scoped>\n",
              "    .dataframe tbody tr th:only-of-type {\n",
              "        vertical-align: middle;\n",
              "    }\n",
              "\n",
              "    .dataframe tbody tr th {\n",
              "        vertical-align: top;\n",
              "    }\n",
              "\n",
              "    .dataframe thead th {\n",
              "        text-align: right;\n",
              "    }\n",
              "</style>\n",
              "<table border=\"1\" class=\"dataframe\">\n",
              "  <thead>\n",
              "    <tr style=\"text-align: right;\">\n",
              "      <th></th>\n",
              "      <th>ID</th>\n",
              "      <th>Sale Price</th>\n",
              "      <th>No of Bedrooms</th>\n",
              "      <th>No of Bathrooms</th>\n",
              "      <th>Flat Area (in Sqft)</th>\n",
              "      <th>Lot Area (in Sqft)</th>\n",
              "      <th>No of Floors</th>\n",
              "      <th>Waterfront View</th>\n",
              "      <th>No of Times Visited</th>\n",
              "      <th>Condition of the House</th>\n",
              "      <th>Overall Grade</th>\n",
              "      <th>Area of the House from Basement (in Sqft)</th>\n",
              "      <th>Basement Area (in Sqft)</th>\n",
              "      <th>Age of House (in Years)</th>\n",
              "      <th>Zipcode</th>\n",
              "      <th>Latitude</th>\n",
              "      <th>Longitude</th>\n",
              "      <th>Living Area after Renovation (in Sqft)</th>\n",
              "      <th>Lot Area after Renovation (in Sqft)</th>\n",
              "      <th>Ever Renovated</th>\n",
              "      <th>Years Since Renovation</th>\n",
              "    </tr>\n",
              "  </thead>\n",
              "  <tbody>\n",
              "    <tr>\n",
              "      <th>0</th>\n",
              "      <td>7129300520</td>\n",
              "      <td>221900.0</td>\n",
              "      <td>3</td>\n",
              "      <td>1.00</td>\n",
              "      <td>1180.0</td>\n",
              "      <td>5650.0</td>\n",
              "      <td>1.0</td>\n",
              "      <td>No</td>\n",
              "      <td>0</td>\n",
              "      <td>Fair</td>\n",
              "      <td>7</td>\n",
              "      <td>1180.0</td>\n",
              "      <td>0</td>\n",
              "      <td>63</td>\n",
              "      <td>98178.0</td>\n",
              "      <td>47.5112</td>\n",
              "      <td>-122.257</td>\n",
              "      <td>1340.0</td>\n",
              "      <td>5650</td>\n",
              "      <td>No</td>\n",
              "      <td>0</td>\n",
              "    </tr>\n",
              "    <tr>\n",
              "      <th>1</th>\n",
              "      <td>6414100192</td>\n",
              "      <td>538000.0</td>\n",
              "      <td>3</td>\n",
              "      <td>2.25</td>\n",
              "      <td>2570.0</td>\n",
              "      <td>7242.0</td>\n",
              "      <td>2.0</td>\n",
              "      <td>No</td>\n",
              "      <td>0</td>\n",
              "      <td>Fair</td>\n",
              "      <td>7</td>\n",
              "      <td>2170.0</td>\n",
              "      <td>400</td>\n",
              "      <td>67</td>\n",
              "      <td>98125.0</td>\n",
              "      <td>47.7210</td>\n",
              "      <td>-122.319</td>\n",
              "      <td>1690.0</td>\n",
              "      <td>7639</td>\n",
              "      <td>Yes</td>\n",
              "      <td>26</td>\n",
              "    </tr>\n",
              "    <tr>\n",
              "      <th>2</th>\n",
              "      <td>5631500400</td>\n",
              "      <td>180000.0</td>\n",
              "      <td>2</td>\n",
              "      <td>1.00</td>\n",
              "      <td>770.0</td>\n",
              "      <td>10000.0</td>\n",
              "      <td>1.0</td>\n",
              "      <td>No</td>\n",
              "      <td>0</td>\n",
              "      <td>Fair</td>\n",
              "      <td>6</td>\n",
              "      <td>770.0</td>\n",
              "      <td>0</td>\n",
              "      <td>85</td>\n",
              "      <td>98028.0</td>\n",
              "      <td>47.7379</td>\n",
              "      <td>-122.233</td>\n",
              "      <td>2720.0</td>\n",
              "      <td>8062</td>\n",
              "      <td>No</td>\n",
              "      <td>0</td>\n",
              "    </tr>\n",
              "    <tr>\n",
              "      <th>3</th>\n",
              "      <td>2487200875</td>\n",
              "      <td>604000.0</td>\n",
              "      <td>4</td>\n",
              "      <td>3.00</td>\n",
              "      <td>1960.0</td>\n",
              "      <td>5000.0</td>\n",
              "      <td>1.0</td>\n",
              "      <td>No</td>\n",
              "      <td>0</td>\n",
              "      <td>Excellent</td>\n",
              "      <td>7</td>\n",
              "      <td>1050.0</td>\n",
              "      <td>910</td>\n",
              "      <td>53</td>\n",
              "      <td>98136.0</td>\n",
              "      <td>47.5208</td>\n",
              "      <td>-122.393</td>\n",
              "      <td>1360.0</td>\n",
              "      <td>5000</td>\n",
              "      <td>No</td>\n",
              "      <td>0</td>\n",
              "    </tr>\n",
              "    <tr>\n",
              "      <th>4</th>\n",
              "      <td>1954400510</td>\n",
              "      <td>510000.0</td>\n",
              "      <td>3</td>\n",
              "      <td>2.00</td>\n",
              "      <td>1680.0</td>\n",
              "      <td>8080.0</td>\n",
              "      <td>1.0</td>\n",
              "      <td>No</td>\n",
              "      <td>0</td>\n",
              "      <td>Fair</td>\n",
              "      <td>8</td>\n",
              "      <td>1680.0</td>\n",
              "      <td>0</td>\n",
              "      <td>31</td>\n",
              "      <td>98074.0</td>\n",
              "      <td>47.6168</td>\n",
              "      <td>-122.045</td>\n",
              "      <td>1800.0</td>\n",
              "      <td>7503</td>\n",
              "      <td>No</td>\n",
              "      <td>0</td>\n",
              "    </tr>\n",
              "  </tbody>\n",
              "</table>\n",
              "</div>"
            ],
            "text/plain": [
              "           ID  Sale Price  ...  Ever Renovated  Years Since Renovation\n",
              "0  7129300520    221900.0  ...              No                       0\n",
              "1  6414100192    538000.0  ...             Yes                      26\n",
              "2  5631500400    180000.0  ...              No                       0\n",
              "3  2487200875    604000.0  ...              No                       0\n",
              "4  1954400510    510000.0  ...              No                       0\n",
              "\n",
              "[5 rows x 21 columns]"
            ]
          },
          "metadata": {
            "tags": []
          },
          "execution_count": 3
        }
      ]
    },
    {
      "cell_type": "code",
      "metadata": {
        "colab": {
          "base_uri": "https://localhost:8080/"
        },
        "id": "RENaqE9MJUgo",
        "outputId": "f73feec5-c520-4c78-936d-97297d9c91d3"
      },
      "source": [
        "data['Sale Price'].corr(data['Flat Area (in Sqft)'])"
      ],
      "execution_count": 5,
      "outputs": [
        {
          "output_type": "execute_result",
          "data": {
            "text/plain": [
              "0.6951704258420669"
            ]
          },
          "metadata": {
            "tags": []
          },
          "execution_count": 5
        }
      ]
    },
    {
      "cell_type": "code",
      "metadata": {
        "colab": {
          "base_uri": "https://localhost:8080/",
          "height": 1000
        },
        "id": "RMuehyX2J3PY",
        "outputId": "8e2ccfc7-249f-4334-f67d-c1f32ee4667c"
      },
      "source": [
        "data.drop(columns=['ID']).corr()"
      ],
      "execution_count": 9,
      "outputs": [
        {
          "output_type": "execute_result",
          "data": {
            "text/html": [
              "<div>\n",
              "<style scoped>\n",
              "    .dataframe tbody tr th:only-of-type {\n",
              "        vertical-align: middle;\n",
              "    }\n",
              "\n",
              "    .dataframe tbody tr th {\n",
              "        vertical-align: top;\n",
              "    }\n",
              "\n",
              "    .dataframe thead th {\n",
              "        text-align: right;\n",
              "    }\n",
              "</style>\n",
              "<table border=\"1\" class=\"dataframe\">\n",
              "  <thead>\n",
              "    <tr style=\"text-align: right;\">\n",
              "      <th></th>\n",
              "      <th>Sale Price</th>\n",
              "      <th>No of Bedrooms</th>\n",
              "      <th>No of Bathrooms</th>\n",
              "      <th>Flat Area (in Sqft)</th>\n",
              "      <th>Lot Area (in Sqft)</th>\n",
              "      <th>No of Floors</th>\n",
              "      <th>No of Times Visited</th>\n",
              "      <th>Overall Grade</th>\n",
              "      <th>Area of the House from Basement (in Sqft)</th>\n",
              "      <th>Basement Area (in Sqft)</th>\n",
              "      <th>Age of House (in Years)</th>\n",
              "      <th>Zipcode</th>\n",
              "      <th>Latitude</th>\n",
              "      <th>Longitude</th>\n",
              "      <th>Living Area after Renovation (in Sqft)</th>\n",
              "      <th>Lot Area after Renovation (in Sqft)</th>\n",
              "      <th>Years Since Renovation</th>\n",
              "    </tr>\n",
              "  </thead>\n",
              "  <tbody>\n",
              "    <tr>\n",
              "      <th>Sale Price</th>\n",
              "      <td>1.000000</td>\n",
              "      <td>0.339407</td>\n",
              "      <td>0.535124</td>\n",
              "      <td>0.695170</td>\n",
              "      <td>0.101319</td>\n",
              "      <td>0.298913</td>\n",
              "      <td>0.356114</td>\n",
              "      <td>0.680914</td>\n",
              "      <td>0.606527</td>\n",
              "      <td>0.307513</td>\n",
              "      <td>-0.064306</td>\n",
              "      <td>-0.043047</td>\n",
              "      <td>0.402430</td>\n",
              "      <td>0.045401</td>\n",
              "      <td>0.629944</td>\n",
              "      <td>0.092325</td>\n",
              "      <td>0.065907</td>\n",
              "    </tr>\n",
              "    <tr>\n",
              "      <th>No of Bedrooms</th>\n",
              "      <td>0.339407</td>\n",
              "      <td>1.000000</td>\n",
              "      <td>0.515813</td>\n",
              "      <td>0.576628</td>\n",
              "      <td>0.031692</td>\n",
              "      <td>0.175536</td>\n",
              "      <td>0.079575</td>\n",
              "      <td>0.349223</td>\n",
              "      <td>0.477549</td>\n",
              "      <td>0.303294</td>\n",
              "      <td>-0.154113</td>\n",
              "      <td>-0.152760</td>\n",
              "      <td>-0.008708</td>\n",
              "      <td>0.129569</td>\n",
              "      <td>0.391771</td>\n",
              "      <td>0.029264</td>\n",
              "      <td>-0.007198</td>\n",
              "    </tr>\n",
              "    <tr>\n",
              "      <th>No of Bathrooms</th>\n",
              "      <td>0.535124</td>\n",
              "      <td>0.515813</td>\n",
              "      <td>1.000000</td>\n",
              "      <td>0.754568</td>\n",
              "      <td>0.087732</td>\n",
              "      <td>0.500776</td>\n",
              "      <td>0.187791</td>\n",
              "      <td>0.635638</td>\n",
              "      <td>0.685088</td>\n",
              "      <td>0.283798</td>\n",
              "      <td>-0.505954</td>\n",
              "      <td>-0.203951</td>\n",
              "      <td>0.024570</td>\n",
              "      <td>0.223171</td>\n",
              "      <td>0.568568</td>\n",
              "      <td>0.087226</td>\n",
              "      <td>0.003551</td>\n",
              "    </tr>\n",
              "    <tr>\n",
              "      <th>Flat Area (in Sqft)</th>\n",
              "      <td>0.695170</td>\n",
              "      <td>0.576628</td>\n",
              "      <td>0.754568</td>\n",
              "      <td>1.000000</td>\n",
              "      <td>0.172721</td>\n",
              "      <td>0.354142</td>\n",
              "      <td>0.284678</td>\n",
              "      <td>0.705725</td>\n",
              "      <td>0.876226</td>\n",
              "      <td>0.435142</td>\n",
              "      <td>-0.318146</td>\n",
              "      <td>-0.199380</td>\n",
              "      <td>0.052538</td>\n",
              "      <td>0.240091</td>\n",
              "      <td>0.756185</td>\n",
              "      <td>0.183223</td>\n",
              "      <td>0.023503</td>\n",
              "    </tr>\n",
              "    <tr>\n",
              "      <th>Lot Area (in Sqft)</th>\n",
              "      <td>0.101319</td>\n",
              "      <td>0.031692</td>\n",
              "      <td>0.087732</td>\n",
              "      <td>0.172721</td>\n",
              "      <td>1.000000</td>\n",
              "      <td>-0.005162</td>\n",
              "      <td>0.074668</td>\n",
              "      <td>0.102314</td>\n",
              "      <td>0.183492</td>\n",
              "      <td>0.015252</td>\n",
              "      <td>-0.053119</td>\n",
              "      <td>-0.129551</td>\n",
              "      <td>-0.085719</td>\n",
              "      <td>0.229449</td>\n",
              "      <td>0.144507</td>\n",
              "      <td>0.718527</td>\n",
              "      <td>0.013835</td>\n",
              "    </tr>\n",
              "    <tr>\n",
              "      <th>No of Floors</th>\n",
              "      <td>0.298913</td>\n",
              "      <td>0.175536</td>\n",
              "      <td>0.500776</td>\n",
              "      <td>0.354142</td>\n",
              "      <td>-0.005162</td>\n",
              "      <td>1.000000</td>\n",
              "      <td>0.029504</td>\n",
              "      <td>0.461368</td>\n",
              "      <td>0.524031</td>\n",
              "      <td>-0.245572</td>\n",
              "      <td>-0.489244</td>\n",
              "      <td>-0.059222</td>\n",
              "      <td>0.049692</td>\n",
              "      <td>0.125620</td>\n",
              "      <td>0.280106</td>\n",
              "      <td>-0.011204</td>\n",
              "      <td>-0.000901</td>\n",
              "    </tr>\n",
              "    <tr>\n",
              "      <th>No of Times Visited</th>\n",
              "      <td>0.356114</td>\n",
              "      <td>0.079575</td>\n",
              "      <td>0.187791</td>\n",
              "      <td>0.284678</td>\n",
              "      <td>0.074668</td>\n",
              "      <td>0.029504</td>\n",
              "      <td>1.000000</td>\n",
              "      <td>0.223661</td>\n",
              "      <td>0.167812</td>\n",
              "      <td>0.276974</td>\n",
              "      <td>0.053395</td>\n",
              "      <td>0.084830</td>\n",
              "      <td>0.006162</td>\n",
              "      <td>-0.078453</td>\n",
              "      <td>0.280452</td>\n",
              "      <td>0.072561</td>\n",
              "      <td>0.093546</td>\n",
              "    </tr>\n",
              "    <tr>\n",
              "      <th>Overall Grade</th>\n",
              "      <td>0.680914</td>\n",
              "      <td>0.349223</td>\n",
              "      <td>0.635638</td>\n",
              "      <td>0.705725</td>\n",
              "      <td>0.102314</td>\n",
              "      <td>0.461368</td>\n",
              "      <td>0.223661</td>\n",
              "      <td>1.000000</td>\n",
              "      <td>0.705153</td>\n",
              "      <td>0.145232</td>\n",
              "      <td>-0.456711</td>\n",
              "      <td>-0.185844</td>\n",
              "      <td>0.111226</td>\n",
              "      <td>0.201736</td>\n",
              "      <td>0.681362</td>\n",
              "      <td>0.107581</td>\n",
              "      <td>-0.024388</td>\n",
              "    </tr>\n",
              "    <tr>\n",
              "      <th>Area of the House from Basement (in Sqft)</th>\n",
              "      <td>0.606527</td>\n",
              "      <td>0.477549</td>\n",
              "      <td>0.685088</td>\n",
              "      <td>0.876226</td>\n",
              "      <td>0.183492</td>\n",
              "      <td>0.524031</td>\n",
              "      <td>0.167812</td>\n",
              "      <td>0.705153</td>\n",
              "      <td>1.000000</td>\n",
              "      <td>-0.051825</td>\n",
              "      <td>-0.423848</td>\n",
              "      <td>-0.261124</td>\n",
              "      <td>-0.000819</td>\n",
              "      <td>0.343793</td>\n",
              "      <td>0.731996</td>\n",
              "      <td>0.194106</td>\n",
              "      <td>0.010491</td>\n",
              "    </tr>\n",
              "    <tr>\n",
              "      <th>Basement Area (in Sqft)</th>\n",
              "      <td>0.307513</td>\n",
              "      <td>0.303294</td>\n",
              "      <td>0.283798</td>\n",
              "      <td>0.435142</td>\n",
              "      <td>0.015252</td>\n",
              "      <td>-0.245572</td>\n",
              "      <td>0.276974</td>\n",
              "      <td>0.145232</td>\n",
              "      <td>-0.051825</td>\n",
              "      <td>1.000000</td>\n",
              "      <td>0.133072</td>\n",
              "      <td>0.074933</td>\n",
              "      <td>0.110451</td>\n",
              "      <td>-0.144822</td>\n",
              "      <td>0.200302</td>\n",
              "      <td>0.017263</td>\n",
              "      <td>0.029158</td>\n",
              "    </tr>\n",
              "    <tr>\n",
              "      <th>Age of House (in Years)</th>\n",
              "      <td>-0.064306</td>\n",
              "      <td>-0.154113</td>\n",
              "      <td>-0.505954</td>\n",
              "      <td>-0.318146</td>\n",
              "      <td>-0.053119</td>\n",
              "      <td>-0.489244</td>\n",
              "      <td>0.053395</td>\n",
              "      <td>-0.456711</td>\n",
              "      <td>-0.423848</td>\n",
              "      <td>0.133072</td>\n",
              "      <td>1.000000</td>\n",
              "      <td>0.346928</td>\n",
              "      <td>0.148083</td>\n",
              "      <td>-0.409515</td>\n",
              "      <td>-0.326307</td>\n",
              "      <td>-0.071016</td>\n",
              "      <td>0.203375</td>\n",
              "    </tr>\n",
              "    <tr>\n",
              "      <th>Zipcode</th>\n",
              "      <td>-0.043047</td>\n",
              "      <td>-0.152760</td>\n",
              "      <td>-0.203951</td>\n",
              "      <td>-0.199380</td>\n",
              "      <td>-0.129551</td>\n",
              "      <td>-0.059222</td>\n",
              "      <td>0.084830</td>\n",
              "      <td>-0.185844</td>\n",
              "      <td>-0.261124</td>\n",
              "      <td>0.074933</td>\n",
              "      <td>0.346928</td>\n",
              "      <td>1.000000</td>\n",
              "      <td>0.267022</td>\n",
              "      <td>-0.564138</td>\n",
              "      <td>-0.278972</td>\n",
              "      <td>-0.147223</td>\n",
              "      <td>0.049659</td>\n",
              "    </tr>\n",
              "    <tr>\n",
              "      <th>Latitude</th>\n",
              "      <td>0.402430</td>\n",
              "      <td>-0.008708</td>\n",
              "      <td>0.024570</td>\n",
              "      <td>0.052538</td>\n",
              "      <td>-0.085719</td>\n",
              "      <td>0.049692</td>\n",
              "      <td>0.006162</td>\n",
              "      <td>0.111226</td>\n",
              "      <td>-0.000819</td>\n",
              "      <td>0.110451</td>\n",
              "      <td>0.148083</td>\n",
              "      <td>0.267022</td>\n",
              "      <td>1.000000</td>\n",
              "      <td>-0.135551</td>\n",
              "      <td>0.048836</td>\n",
              "      <td>-0.086420</td>\n",
              "      <td>0.019739</td>\n",
              "    </tr>\n",
              "    <tr>\n",
              "      <th>Longitude</th>\n",
              "      <td>0.045401</td>\n",
              "      <td>0.129569</td>\n",
              "      <td>0.223171</td>\n",
              "      <td>0.240091</td>\n",
              "      <td>0.229449</td>\n",
              "      <td>0.125620</td>\n",
              "      <td>-0.078453</td>\n",
              "      <td>0.201736</td>\n",
              "      <td>0.343793</td>\n",
              "      <td>-0.144822</td>\n",
              "      <td>-0.409515</td>\n",
              "      <td>-0.564138</td>\n",
              "      <td>-0.135551</td>\n",
              "      <td>1.000000</td>\n",
              "      <td>0.334515</td>\n",
              "      <td>0.254428</td>\n",
              "      <td>-0.055039</td>\n",
              "    </tr>\n",
              "    <tr>\n",
              "      <th>Living Area after Renovation (in Sqft)</th>\n",
              "      <td>0.629944</td>\n",
              "      <td>0.391771</td>\n",
              "      <td>0.568568</td>\n",
              "      <td>0.756185</td>\n",
              "      <td>0.144507</td>\n",
              "      <td>0.280106</td>\n",
              "      <td>0.280452</td>\n",
              "      <td>0.681362</td>\n",
              "      <td>0.731996</td>\n",
              "      <td>0.200302</td>\n",
              "      <td>-0.326307</td>\n",
              "      <td>-0.278972</td>\n",
              "      <td>0.048836</td>\n",
              "      <td>0.334515</td>\n",
              "      <td>1.000000</td>\n",
              "      <td>0.183188</td>\n",
              "      <td>-0.008390</td>\n",
              "    </tr>\n",
              "    <tr>\n",
              "      <th>Lot Area after Renovation (in Sqft)</th>\n",
              "      <td>0.092325</td>\n",
              "      <td>0.029264</td>\n",
              "      <td>0.087226</td>\n",
              "      <td>0.183223</td>\n",
              "      <td>0.718527</td>\n",
              "      <td>-0.011204</td>\n",
              "      <td>0.072561</td>\n",
              "      <td>0.107581</td>\n",
              "      <td>0.194106</td>\n",
              "      <td>0.017263</td>\n",
              "      <td>-0.071016</td>\n",
              "      <td>-0.147223</td>\n",
              "      <td>-0.086420</td>\n",
              "      <td>0.254428</td>\n",
              "      <td>0.183188</td>\n",
              "      <td>1.000000</td>\n",
              "      <td>0.011289</td>\n",
              "    </tr>\n",
              "    <tr>\n",
              "      <th>Years Since Renovation</th>\n",
              "      <td>0.065907</td>\n",
              "      <td>-0.007198</td>\n",
              "      <td>0.003551</td>\n",
              "      <td>0.023503</td>\n",
              "      <td>0.013835</td>\n",
              "      <td>-0.000901</td>\n",
              "      <td>0.093546</td>\n",
              "      <td>-0.024388</td>\n",
              "      <td>0.010491</td>\n",
              "      <td>0.029158</td>\n",
              "      <td>0.203375</td>\n",
              "      <td>0.049659</td>\n",
              "      <td>0.019739</td>\n",
              "      <td>-0.055039</td>\n",
              "      <td>-0.008390</td>\n",
              "      <td>0.011289</td>\n",
              "      <td>1.000000</td>\n",
              "    </tr>\n",
              "  </tbody>\n",
              "</table>\n",
              "</div>"
            ],
            "text/plain": [
              "                                           Sale Price  ...  Years Since Renovation\n",
              "Sale Price                                   1.000000  ...                0.065907\n",
              "No of Bedrooms                               0.339407  ...               -0.007198\n",
              "No of Bathrooms                              0.535124  ...                0.003551\n",
              "Flat Area (in Sqft)                          0.695170  ...                0.023503\n",
              "Lot Area (in Sqft)                           0.101319  ...                0.013835\n",
              "No of Floors                                 0.298913  ...               -0.000901\n",
              "No of Times Visited                          0.356114  ...                0.093546\n",
              "Overall Grade                                0.680914  ...               -0.024388\n",
              "Area of the House from Basement (in Sqft)    0.606527  ...                0.010491\n",
              "Basement Area (in Sqft)                      0.307513  ...                0.029158\n",
              "Age of House (in Years)                     -0.064306  ...                0.203375\n",
              "Zipcode                                     -0.043047  ...                0.049659\n",
              "Latitude                                     0.402430  ...                0.019739\n",
              "Longitude                                    0.045401  ...               -0.055039\n",
              "Living Area after Renovation (in Sqft)       0.629944  ...               -0.008390\n",
              "Lot Area after Renovation (in Sqft)          0.092325  ...                0.011289\n",
              "Years Since Renovation                       0.065907  ...                1.000000\n",
              "\n",
              "[17 rows x 17 columns]"
            ]
          },
          "metadata": {
            "tags": []
          },
          "execution_count": 9
        }
      ]
    },
    {
      "cell_type": "code",
      "metadata": {
        "colab": {
          "base_uri": "https://localhost:8080/"
        },
        "id": "XZyHkSBtigAu",
        "outputId": "bd328124-7b11-476c-dcf6-3b6165cda8e3"
      },
      "source": [
        "data['Condition of the House'].value_counts()"
      ],
      "execution_count": 10,
      "outputs": [
        {
          "output_type": "execute_result",
          "data": {
            "text/plain": [
              "Fair         14028\n",
              "Good          5678\n",
              "Excellent     1701\n",
              "Okay           172\n",
              "Bad             30\n",
              "Name: Condition of the House, dtype: int64"
            ]
          },
          "metadata": {
            "tags": []
          },
          "execution_count": 10
        }
      ]
    },
    {
      "cell_type": "code",
      "metadata": {
        "colab": {
          "base_uri": "https://localhost:8080/",
          "height": 332
        },
        "id": "zxk2mZ8ei-Rl",
        "outputId": "5d27ef12-ded6-45c3-c943-ea28b5d0bd53"
      },
      "source": [
        "data.groupby('Condition of the House',)['Sale Price'].mean().sort_values().plot(kind='bar')"
      ],
      "execution_count": 13,
      "outputs": [
        {
          "output_type": "execute_result",
          "data": {
            "text/plain": [
              "<matplotlib.axes._subplots.AxesSubplot at 0x7fb8bcd7e390>"
            ]
          },
          "metadata": {
            "tags": []
          },
          "execution_count": 13
        },
        {
          "output_type": "display_data",
          "data": {
            "image/png": "[encoded data removed]",
            "text/plain": [
              "<Figure size 432x288 with 1 Axes>"
            ]
          },
          "metadata": {
            "tags": [],
            "needs_background": "light"
          }
        }
      ]
    },
    {
      "cell_type": "code",
      "metadata": {
        "colab": {
          "base_uri": "https://localhost:8080/",
          "height": 339
        },
        "id": "XlSED4O2jspT",
        "outputId": "d77fae0d-2868-4258-ff77-581c6ec88426"
      },
      "source": [
        "data.groupby('Zipcode',)['Sale Price'].mean().sort_values().plot(kind='bar')"
      ],
      "execution_count": 14,
      "outputs": [
        {
          "output_type": "execute_result",
          "data": {
            "text/plain": [
              "<matplotlib.axes._subplots.AxesSubplot at 0x7fb8bc878fd0>"
            ]
          },
          "metadata": {
            "tags": []
          },
          "execution_count": 14
        },
        {
          "output_type": "display_data",
          "data": {
            "image/png": "[encoded data removed]",
            "text/plain": [
              "<Figure size 432x288 with 1 Axes>"
            ]
          },
          "metadata": {
            "tags": [],
            "needs_background": "light"
          }
        }
      ]
    },
    {
      "cell_type": "code",
      "metadata": {
        "id": "lYVTfDgylCl2"
      },
      "source": [
        "from statsmodels.formula.api import ols\r\n",
        "import statsmodels.api as sm\r\n"
      ],
      "execution_count": 15,
      "outputs": []
    },
    {
      "cell_type": "code",
      "metadata": {
        "id": "-SP11T_ulZor"
      },
      "source": [
        "data = data.rename(columns={'Sale Price':'Sale_Price'})"
      ],
      "execution_count": 16,
      "outputs": []
    },
    {
      "cell_type": "code",
      "metadata": {
        "id": "iIqBLBMfljJu"
      },
      "source": [
        "data = data.rename(columns={'Condition of the House':'Condition_of_the_House'})"
      ],
      "execution_count": 18,
      "outputs": []
    },
    {
      "cell_type": "code",
      "metadata": {
        "id": "LAO4nX8cljn5"
      },
      "source": [
        "data = data.rename(columns={'Ever Renovated' : 'Ever_Renovated'})"
      ],
      "execution_count": 22,
      "outputs": []
    },
    {
      "cell_type": "code",
      "metadata": {
        "id": "mBN_ujN0l-Oj"
      },
      "source": [
        "data = data.rename(columns={'Waterfront View':'Waterfront_View'})"
      ],
      "execution_count": 20,
      "outputs": []
    },
    {
      "cell_type": "code",
      "metadata": {
        "colab": {
          "base_uri": "https://localhost:8080/",
          "height": 326
        },
        "id": "Ndbz1fYGmIMg",
        "outputId": "1b0d657f-79e7-437e-e9b8-bab76a612d94"
      },
      "source": [
        "data.head()"
      ],
      "execution_count": 23,
      "outputs": [
        {
          "output_type": "execute_result",
          "data": {
            "text/html": [
              "<div>\n",
              "<style scoped>\n",
              "    .dataframe tbody tr th:only-of-type {\n",
              "        vertical-align: middle;\n",
              "    }\n",
              "\n",
              "    .dataframe tbody tr th {\n",
              "        vertical-align: top;\n",
              "    }\n",
              "\n",
              "    .dataframe thead th {\n",
              "        text-align: right;\n",
              "    }\n",
              "</style>\n",
              "<table border=\"1\" class=\"dataframe\">\n",
              "  <thead>\n",
              "    <tr style=\"text-align: right;\">\n",
              "      <th></th>\n",
              "      <th>ID</th>\n",
              "      <th>Sale_Price</th>\n",
              "      <th>No of Bedrooms</th>\n",
              "      <th>No of Bathrooms</th>\n",
              "      <th>Flat Area (in Sqft)</th>\n",
              "      <th>Lot Area (in Sqft)</th>\n",
              "      <th>No of Floors</th>\n",
              "      <th>Waterfront_View</th>\n",
              "      <th>No of Times Visited</th>\n",
              "      <th>Condition_of_the_House</th>\n",
              "      <th>Overall Grade</th>\n",
              "      <th>Area of the House from Basement (in Sqft)</th>\n",
              "      <th>Basement Area (in Sqft)</th>\n",
              "      <th>Age of House (in Years)</th>\n",
              "      <th>Zipcode</th>\n",
              "      <th>Latitude</th>\n",
              "      <th>Longitude</th>\n",
              "      <th>Living Area after Renovation (in Sqft)</th>\n",
              "      <th>Lot Area after Renovation (in Sqft)</th>\n",
              "      <th>Ever_Renovated</th>\n",
              "      <th>Years Since Renovation</th>\n",
              "    </tr>\n",
              "  </thead>\n",
              "  <tbody>\n",
              "    <tr>\n",
              "      <th>0</th>\n",
              "      <td>7129300520</td>\n",
              "      <td>221900.0</td>\n",
              "      <td>3</td>\n",
              "      <td>1.00</td>\n",
              "      <td>1180.0</td>\n",
              "      <td>5650.0</td>\n",
              "      <td>1.0</td>\n",
              "      <td>No</td>\n",
              "      <td>0</td>\n",
              "      <td>Fair</td>\n",
              "      <td>7</td>\n",
              "      <td>1180.0</td>\n",
              "      <td>0</td>\n",
              "      <td>63</td>\n",
              "      <td>98178.0</td>\n",
              "      <td>47.5112</td>\n",
              "      <td>-122.257</td>\n",
              "      <td>1340.0</td>\n",
              "      <td>5650</td>\n",
              "      <td>No</td>\n",
              "      <td>0</td>\n",
              "    </tr>\n",
              "    <tr>\n",
              "      <th>1</th>\n",
              "      <td>6414100192</td>\n",
              "      <td>538000.0</td>\n",
              "      <td>3</td>\n",
              "      <td>2.25</td>\n",
              "      <td>2570.0</td>\n",
              "      <td>7242.0</td>\n",
              "      <td>2.0</td>\n",
              "      <td>No</td>\n",
              "      <td>0</td>\n",
              "      <td>Fair</td>\n",
              "      <td>7</td>\n",
              "      <td>2170.0</td>\n",
              "      <td>400</td>\n",
              "      <td>67</td>\n",
              "      <td>98125.0</td>\n",
              "      <td>47.7210</td>\n",
              "      <td>-122.319</td>\n",
              "      <td>1690.0</td>\n",
              "      <td>7639</td>\n",
              "      <td>Yes</td>\n",
              "      <td>26</td>\n",
              "    </tr>\n",
              "    <tr>\n",
              "      <th>2</th>\n",
              "      <td>5631500400</td>\n",
              "      <td>180000.0</td>\n",
              "      <td>2</td>\n",
              "      <td>1.00</td>\n",
              "      <td>770.0</td>\n",
              "      <td>10000.0</td>\n",
              "      <td>1.0</td>\n",
              "      <td>No</td>\n",
              "      <td>0</td>\n",
              "      <td>Fair</td>\n",
              "      <td>6</td>\n",
              "      <td>770.0</td>\n",
              "      <td>0</td>\n",
              "      <td>85</td>\n",
              "      <td>98028.0</td>\n",
              "      <td>47.7379</td>\n",
              "      <td>-122.233</td>\n",
              "      <td>2720.0</td>\n",
              "      <td>8062</td>\n",
              "      <td>No</td>\n",
              "      <td>0</td>\n",
              "    </tr>\n",
              "    <tr>\n",
              "      <th>3</th>\n",
              "      <td>2487200875</td>\n",
              "      <td>604000.0</td>\n",
              "      <td>4</td>\n",
              "      <td>3.00</td>\n",
              "      <td>1960.0</td>\n",
              "      <td>5000.0</td>\n",
              "      <td>1.0</td>\n",
              "      <td>No</td>\n",
              "      <td>0</td>\n",
              "      <td>Excellent</td>\n",
              "      <td>7</td>\n",
              "      <td>1050.0</td>\n",
              "      <td>910</td>\n",
              "      <td>53</td>\n",
              "      <td>98136.0</td>\n",
              "      <td>47.5208</td>\n",
              "      <td>-122.393</td>\n",
              "      <td>1360.0</td>\n",
              "      <td>5000</td>\n",
              "      <td>No</td>\n",
              "      <td>0</td>\n",
              "    </tr>\n",
              "    <tr>\n",
              "      <th>4</th>\n",
              "      <td>1954400510</td>\n",
              "      <td>510000.0</td>\n",
              "      <td>3</td>\n",
              "      <td>2.00</td>\n",
              "      <td>1680.0</td>\n",
              "      <td>8080.0</td>\n",
              "      <td>1.0</td>\n",
              "      <td>No</td>\n",
              "      <td>0</td>\n",
              "      <td>Fair</td>\n",
              "      <td>8</td>\n",
              "      <td>1680.0</td>\n",
              "      <td>0</td>\n",
              "      <td>31</td>\n",
              "      <td>98074.0</td>\n",
              "      <td>47.6168</td>\n",
              "      <td>-122.045</td>\n",
              "      <td>1800.0</td>\n",
              "      <td>7503</td>\n",
              "      <td>No</td>\n",
              "      <td>0</td>\n",
              "    </tr>\n",
              "  </tbody>\n",
              "</table>\n",
              "</div>"
            ],
            "text/plain": [
              "           ID  Sale_Price  ...  Ever_Renovated  Years Since Renovation\n",
              "0  7129300520    221900.0  ...              No                       0\n",
              "1  6414100192    538000.0  ...             Yes                      26\n",
              "2  5631500400    180000.0  ...              No                       0\n",
              "3  2487200875    604000.0  ...              No                       0\n",
              "4  1954400510    510000.0  ...              No                       0\n",
              "\n",
              "[5 rows x 21 columns]"
            ]
          },
          "metadata": {
            "tags": []
          },
          "execution_count": 23
        }
      ]
    },
    {
      "cell_type": "code",
      "metadata": {
        "id": "QiuGi05Impst"
      },
      "source": [
        "mod = ols('Sale_Price ~ Condition_of_the_House' , data = data).fit()"
      ],
      "execution_count": 25,
      "outputs": []
    },
    {
      "cell_type": "code",
      "metadata": {
        "id": "zluz5Pllm9Yt"
      },
      "source": [
        "Annova_table = sm.stats.anova_lm(mod,typ=2)"
      ],
      "execution_count": 27,
      "outputs": []
    },
    {
      "cell_type": "code",
      "metadata": {
        "colab": {
          "base_uri": "https://localhost:8080/"
        },
        "id": "EIrdB8V2nRyX",
        "outputId": "6096e83d-4dbc-4a76-d217-667a6d4c2a30"
      },
      "source": [
        "print(Annova_table)"
      ],
      "execution_count": 28,
      "outputs": [
        {
          "output_type": "stream",
          "text": [
            "                              sum_sq       df         F        PR(>F)\n",
            "Condition_of_the_House  1.441831e+13      4.0  58.25563  5.447605e-49\n",
            "Residual                1.336752e+15  21604.0       NaN           NaN\n"
          ],
          "name": "stdout"
        }
      ]
    },
    {
      "cell_type": "code",
      "metadata": {
        "colab": {
          "base_uri": "https://localhost:8080/",
          "height": 111
        },
        "id": "PVWJ_GuCngIP",
        "outputId": "6bb14bd2-465f-4e03-f9f4-c69369ae01fa"
      },
      "source": [
        "mod = ols('Sale_Price ~ Waterfront_View' , data = data).fit()\r\n",
        "sm.stats.anova_lm(mod,typ=2)"
      ],
      "execution_count": 30,
      "outputs": [
        {
          "output_type": "execute_result",
          "data": {
            "text/html": [
              "<div>\n",
              "<style scoped>\n",
              "    .dataframe tbody tr th:only-of-type {\n",
              "        vertical-align: middle;\n",
              "    }\n",
              "\n",
              "    .dataframe tbody tr th {\n",
              "        vertical-align: top;\n",
              "    }\n",
              "\n",
              "    .dataframe thead th {\n",
              "        text-align: right;\n",
              "    }\n",
              "</style>\n",
              "<table border=\"1\" class=\"dataframe\">\n",
              "  <thead>\n",
              "    <tr style=\"text-align: right;\">\n",
              "      <th></th>\n",
              "      <th>sum_sq</th>\n",
              "      <th>df</th>\n",
              "      <th>F</th>\n",
              "      <th>PR(&gt;F)</th>\n",
              "    </tr>\n",
              "  </thead>\n",
              "  <tbody>\n",
              "    <tr>\n",
              "      <th>Waterfront_View</th>\n",
              "      <td>3.283737e+13</td>\n",
              "      <td>1.0</td>\n",
              "      <td>538.192683</td>\n",
              "      <td>1.275558e-117</td>\n",
              "    </tr>\n",
              "    <tr>\n",
              "      <th>Residual</th>\n",
              "      <td>1.318333e+15</td>\n",
              "      <td>21607.0</td>\n",
              "      <td>NaN</td>\n",
              "      <td>NaN</td>\n",
              "    </tr>\n",
              "  </tbody>\n",
              "</table>\n",
              "</div>"
            ],
            "text/plain": [
              "                       sum_sq       df           F         PR(>F)\n",
              "Waterfront_View  3.283737e+13      1.0  538.192683  1.275558e-117\n",
              "Residual         1.318333e+15  21607.0         NaN            NaN"
            ]
          },
          "metadata": {
            "tags": []
          },
          "execution_count": 30
        }
      ]
    },
    {
      "cell_type": "code",
      "metadata": {
        "colab": {
          "base_uri": "https://localhost:8080/",
          "height": 111
        },
        "id": "S_B9hSxUnuAh",
        "outputId": "7ce7540e-c6bc-4aee-b98a-52584a2a2e89"
      },
      "source": [
        "mod = ols('Sale_Price ~ Ever_Renovated' , data = data).fit()\r\n",
        "sm.stats.anova_lm(mod,typ=2)"
      ],
      "execution_count": 31,
      "outputs": [
        {
          "output_type": "execute_result",
          "data": {
            "text/html": [
              "<div>\n",
              "<style scoped>\n",
              "    .dataframe tbody tr th:only-of-type {\n",
              "        vertical-align: middle;\n",
              "    }\n",
              "\n",
              "    .dataframe tbody tr th {\n",
              "        vertical-align: top;\n",
              "    }\n",
              "\n",
              "    .dataframe thead th {\n",
              "        text-align: right;\n",
              "    }\n",
              "</style>\n",
              "<table border=\"1\" class=\"dataframe\">\n",
              "  <thead>\n",
              "    <tr style=\"text-align: right;\">\n",
              "      <th></th>\n",
              "      <th>sum_sq</th>\n",
              "      <th>df</th>\n",
              "      <th>F</th>\n",
              "      <th>PR(&gt;F)</th>\n",
              "    </tr>\n",
              "  </thead>\n",
              "  <tbody>\n",
              "    <tr>\n",
              "      <th>Ever_Renovated</th>\n",
              "      <td>1.998463e+13</td>\n",
              "      <td>1.0</td>\n",
              "      <td>324.378469</td>\n",
              "      <td>5.419055e-72</td>\n",
              "    </tr>\n",
              "    <tr>\n",
              "      <th>Residual</th>\n",
              "      <td>1.331185e+15</td>\n",
              "      <td>21607.0</td>\n",
              "      <td>NaN</td>\n",
              "      <td>NaN</td>\n",
              "    </tr>\n",
              "  </tbody>\n",
              "</table>\n",
              "</div>"
            ],
            "text/plain": [
              "                      sum_sq       df           F        PR(>F)\n",
              "Ever_Renovated  1.998463e+13      1.0  324.378469  5.419055e-72\n",
              "Residual        1.331185e+15  21607.0         NaN           NaN"
            ]
          },
          "metadata": {
            "tags": []
          },
          "execution_count": 31
        }
      ]
    },
    {
      "cell_type": "code",
      "metadata": {
        "colab": {
          "base_uri": "https://localhost:8080/",
          "height": 111
        },
        "id": "mt15iAvBnzDm",
        "outputId": "ebc3fc3f-5519-46da-9d2d-0639f11d5dd3"
      },
      "source": [
        "mod = ols('Sale_Price ~ Zipcode' , data = data).fit()\r\n",
        "sm.stats.anova_lm(mod,typ=2)"
      ],
      "execution_count": 32,
      "outputs": [
        {
          "output_type": "execute_result",
          "data": {
            "text/html": [
              "<div>\n",
              "<style scoped>\n",
              "    .dataframe tbody tr th:only-of-type {\n",
              "        vertical-align: middle;\n",
              "    }\n",
              "\n",
              "    .dataframe tbody tr th {\n",
              "        vertical-align: top;\n",
              "    }\n",
              "\n",
              "    .dataframe thead th {\n",
              "        text-align: right;\n",
              "    }\n",
              "</style>\n",
              "<table border=\"1\" class=\"dataframe\">\n",
              "  <thead>\n",
              "    <tr style=\"text-align: right;\">\n",
              "      <th></th>\n",
              "      <th>sum_sq</th>\n",
              "      <th>df</th>\n",
              "      <th>F</th>\n",
              "      <th>PR(&gt;F)</th>\n",
              "    </tr>\n",
              "  </thead>\n",
              "  <tbody>\n",
              "    <tr>\n",
              "      <th>Zipcode</th>\n",
              "      <td>2.503765e+12</td>\n",
              "      <td>1.0</td>\n",
              "      <td>40.112844</td>\n",
              "      <td>2.444308e-10</td>\n",
              "    </tr>\n",
              "    <tr>\n",
              "      <th>Residual</th>\n",
              "      <td>1.348666e+15</td>\n",
              "      <td>21607.0</td>\n",
              "      <td>NaN</td>\n",
              "      <td>NaN</td>\n",
              "    </tr>\n",
              "  </tbody>\n",
              "</table>\n",
              "</div>"
            ],
            "text/plain": [
              "                sum_sq       df          F        PR(>F)\n",
              "Zipcode   2.503765e+12      1.0  40.112844  2.444308e-10\n",
              "Residual  1.348666e+15  21607.0        NaN           NaN"
            ]
          },
          "metadata": {
            "tags": []
          },
          "execution_count": 32
        }
      ]
    },
    {
      "cell_type": "code",
      "metadata": {
        "id": "x4n2ovDnotfP"
      },
      "source": [
        "data = pd.get_dummies(data,columns=['Condition_of_the_House'],drop_first=True)"
      ],
      "execution_count": 34,
      "outputs": []
    },
    {
      "cell_type": "code",
      "metadata": {
        "id": "IBRdT1_2pKmS"
      },
      "source": [
        "data = pd.get_dummies(data,columns=['Ever_Renovated','Waterfront_View'],drop_first=True)"
      ],
      "execution_count": 36,
      "outputs": []
    },
    {
      "cell_type": "code",
      "metadata": {
        "colab": {
          "base_uri": "https://localhost:8080/",
          "height": 326
        },
        "id": "gXUU-cpto_QP",
        "outputId": "b339cfcb-23e7-4d4f-b49d-cbcfc390257f"
      },
      "source": [
        "data.head()"
      ],
      "execution_count": 37,
      "outputs": [
        {
          "output_type": "execute_result",
          "data": {
            "text/html": [
              "<div>\n",
              "<style scoped>\n",
              "    .dataframe tbody tr th:only-of-type {\n",
              "        vertical-align: middle;\n",
              "    }\n",
              "\n",
              "    .dataframe tbody tr th {\n",
              "        vertical-align: top;\n",
              "    }\n",
              "\n",
              "    .dataframe thead th {\n",
              "        text-align: right;\n",
              "    }\n",
              "</style>\n",
              "<table border=\"1\" class=\"dataframe\">\n",
              "  <thead>\n",
              "    <tr style=\"text-align: right;\">\n",
              "      <th></th>\n",
              "      <th>ID</th>\n",
              "      <th>Sale_Price</th>\n",
              "      <th>No of Bedrooms</th>\n",
              "      <th>No of Bathrooms</th>\n",
              "      <th>Flat Area (in Sqft)</th>\n",
              "      <th>Lot Area (in Sqft)</th>\n",
              "      <th>No of Floors</th>\n",
              "      <th>No of Times Visited</th>\n",
              "      <th>Overall Grade</th>\n",
              "      <th>Area of the House from Basement (in Sqft)</th>\n",
              "      <th>Basement Area (in Sqft)</th>\n",
              "      <th>Age of House (in Years)</th>\n",
              "      <th>Zipcode</th>\n",
              "      <th>Latitude</th>\n",
              "      <th>Longitude</th>\n",
              "      <th>Living Area after Renovation (in Sqft)</th>\n",
              "      <th>Lot Area after Renovation (in Sqft)</th>\n",
              "      <th>Years Since Renovation</th>\n",
              "      <th>Condition_of_the_House_Excellent</th>\n",
              "      <th>Condition_of_the_House_Fair</th>\n",
              "      <th>Condition_of_the_House_Good</th>\n",
              "      <th>Condition_of_the_House_Okay</th>\n",
              "      <th>Ever_Renovated_Yes</th>\n",
              "      <th>Waterfront_View_Yes</th>\n",
              "    </tr>\n",
              "  </thead>\n",
              "  <tbody>\n",
              "    <tr>\n",
              "      <th>0</th>\n",
              "      <td>7129300520</td>\n",
              "      <td>221900.0</td>\n",
              "      <td>3</td>\n",
              "      <td>1.00</td>\n",
              "      <td>1180.0</td>\n",
              "      <td>5650.0</td>\n",
              "      <td>1.0</td>\n",
              "      <td>0</td>\n",
              "      <td>7</td>\n",
              "      <td>1180.0</td>\n",
              "      <td>0</td>\n",
              "      <td>63</td>\n",
              "      <td>98178.0</td>\n",
              "      <td>47.5112</td>\n",
              "      <td>-122.257</td>\n",
              "      <td>1340.0</td>\n",
              "      <td>5650</td>\n",
              "      <td>0</td>\n",
              "      <td>0</td>\n",
              "      <td>1</td>\n",
              "      <td>0</td>\n",
              "      <td>0</td>\n",
              "      <td>0</td>\n",
              "      <td>0</td>\n",
              "    </tr>\n",
              "    <tr>\n",
              "      <th>1</th>\n",
              "      <td>6414100192</td>\n",
              "      <td>538000.0</td>\n",
              "      <td>3</td>\n",
              "      <td>2.25</td>\n",
              "      <td>2570.0</td>\n",
              "      <td>7242.0</td>\n",
              "      <td>2.0</td>\n",
              "      <td>0</td>\n",
              "      <td>7</td>\n",
              "      <td>2170.0</td>\n",
              "      <td>400</td>\n",
              "      <td>67</td>\n",
              "      <td>98125.0</td>\n",
              "      <td>47.7210</td>\n",
              "      <td>-122.319</td>\n",
              "      <td>1690.0</td>\n",
              "      <td>7639</td>\n",
              "      <td>26</td>\n",
              "      <td>0</td>\n",
              "      <td>1</td>\n",
              "      <td>0</td>\n",
              "      <td>0</td>\n",
              "      <td>1</td>\n",
              "      <td>0</td>\n",
              "    </tr>\n",
              "    <tr>\n",
              "      <th>2</th>\n",
              "      <td>5631500400</td>\n",
              "      <td>180000.0</td>\n",
              "      <td>2</td>\n",
              "      <td>1.00</td>\n",
              "      <td>770.0</td>\n",
              "      <td>10000.0</td>\n",
              "      <td>1.0</td>\n",
              "      <td>0</td>\n",
              "      <td>6</td>\n",
              "      <td>770.0</td>\n",
              "      <td>0</td>\n",
              "      <td>85</td>\n",
              "      <td>98028.0</td>\n",
              "      <td>47.7379</td>\n",
              "      <td>-122.233</td>\n",
              "      <td>2720.0</td>\n",
              "      <td>8062</td>\n",
              "      <td>0</td>\n",
              "      <td>0</td>\n",
              "      <td>1</td>\n",
              "      <td>0</td>\n",
              "      <td>0</td>\n",
              "      <td>0</td>\n",
              "      <td>0</td>\n",
              "    </tr>\n",
              "    <tr>\n",
              "      <th>3</th>\n",
              "      <td>2487200875</td>\n",
              "      <td>604000.0</td>\n",
              "      <td>4</td>\n",
              "      <td>3.00</td>\n",
              "      <td>1960.0</td>\n",
              "      <td>5000.0</td>\n",
              "      <td>1.0</td>\n",
              "      <td>0</td>\n",
              "      <td>7</td>\n",
              "      <td>1050.0</td>\n",
              "      <td>910</td>\n",
              "      <td>53</td>\n",
              "      <td>98136.0</td>\n",
              "      <td>47.5208</td>\n",
              "      <td>-122.393</td>\n",
              "      <td>1360.0</td>\n",
              "      <td>5000</td>\n",
              "      <td>0</td>\n",
              "      <td>1</td>\n",
              "      <td>0</td>\n",
              "      <td>0</td>\n",
              "      <td>0</td>\n",
              "      <td>0</td>\n",
              "      <td>0</td>\n",
              "    </tr>\n",
              "    <tr>\n",
              "      <th>4</th>\n",
              "      <td>1954400510</td>\n",
              "      <td>510000.0</td>\n",
              "      <td>3</td>\n",
              "      <td>2.00</td>\n",
              "      <td>1680.0</td>\n",
              "      <td>8080.0</td>\n",
              "      <td>1.0</td>\n",
              "      <td>0</td>\n",
              "      <td>8</td>\n",
              "      <td>1680.0</td>\n",
              "      <td>0</td>\n",
              "      <td>31</td>\n",
              "      <td>98074.0</td>\n",
              "      <td>47.6168</td>\n",
              "      <td>-122.045</td>\n",
              "      <td>1800.0</td>\n",
              "      <td>7503</td>\n",
              "      <td>0</td>\n",
              "      <td>0</td>\n",
              "      <td>1</td>\n",
              "      <td>0</td>\n",
              "      <td>0</td>\n",
              "      <td>0</td>\n",
              "      <td>0</td>\n",
              "    </tr>\n",
              "  </tbody>\n",
              "</table>\n",
              "</div>"
            ],
            "text/plain": [
              "           ID  Sale_Price  ...  Ever_Renovated_Yes  Waterfront_View_Yes\n",
              "0  7129300520    221900.0  ...                   0                    0\n",
              "1  6414100192    538000.0  ...                   1                    0\n",
              "2  5631500400    180000.0  ...                   0                    0\n",
              "3  2487200875    604000.0  ...                   0                    0\n",
              "4  1954400510    510000.0  ...                   0                    0\n",
              "\n",
              "[5 rows x 24 columns]"
            ]
          },
          "metadata": {
            "tags": []
          },
          "execution_count": 37
        }
      ]
    },
    {
      "cell_type": "code",
      "metadata": {
        "id": "Z6hOlJoLpojX"
      },
      "source": [
        "zip_table = data.groupby('Zipcode').agg({'Sale_Price':'mean'}).sort_values('Sale_Price',ascending=True)"
      ],
      "execution_count": 38,
      "outputs": []
    },
    {
      "cell_type": "code",
      "metadata": {
        "colab": {
          "base_uri": "https://localhost:8080/",
          "height": 235
        },
        "id": "S3iqVxQ4qG2A",
        "outputId": "6b5ae8a1-008a-46d3-e89f-b045babc8f97"
      },
      "source": [
        "zip_table.head()"
      ],
      "execution_count": 39,
      "outputs": [
        {
          "output_type": "execute_result",
          "data": {
            "text/html": [
              "<div>\n",
              "<style scoped>\n",
              "    .dataframe tbody tr th:only-of-type {\n",
              "        vertical-align: middle;\n",
              "    }\n",
              "\n",
              "    .dataframe tbody tr th {\n",
              "        vertical-align: top;\n",
              "    }\n",
              "\n",
              "    .dataframe thead th {\n",
              "        text-align: right;\n",
              "    }\n",
              "</style>\n",
              "<table border=\"1\" class=\"dataframe\">\n",
              "  <thead>\n",
              "    <tr style=\"text-align: right;\">\n",
              "      <th></th>\n",
              "      <th>Sale_Price</th>\n",
              "    </tr>\n",
              "    <tr>\n",
              "      <th>Zipcode</th>\n",
              "      <th></th>\n",
              "    </tr>\n",
              "  </thead>\n",
              "  <tbody>\n",
              "    <tr>\n",
              "      <th>98002.0</th>\n",
              "      <td>234284.035176</td>\n",
              "    </tr>\n",
              "    <tr>\n",
              "      <th>98168.0</th>\n",
              "      <td>240328.371747</td>\n",
              "    </tr>\n",
              "    <tr>\n",
              "      <th>98032.0</th>\n",
              "      <td>251296.240000</td>\n",
              "    </tr>\n",
              "    <tr>\n",
              "      <th>98001.0</th>\n",
              "      <td>280804.690608</td>\n",
              "    </tr>\n",
              "    <tr>\n",
              "      <th>98148.0</th>\n",
              "      <td>284908.596491</td>\n",
              "    </tr>\n",
              "  </tbody>\n",
              "</table>\n",
              "</div>"
            ],
            "text/plain": [
              "            Sale_Price\n",
              "Zipcode               \n",
              "98002.0  234284.035176\n",
              "98168.0  240328.371747\n",
              "98032.0  251296.240000\n",
              "98001.0  280804.690608\n",
              "98148.0  284908.596491"
            ]
          },
          "metadata": {
            "tags": []
          },
          "execution_count": 39
        }
      ]
    }
  ]
}